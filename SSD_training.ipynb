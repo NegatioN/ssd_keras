{
 "cells": [
  {
   "cell_type": "code",
   "execution_count": 1,
   "metadata": {
    "collapsed": false
   },
   "outputs": [
    {
     "name": "stderr",
     "output_type": "stream",
     "text": [
      "Using TensorFlow backend.\n"
     ]
    }
   ],
   "source": [
    "import keras\n",
    "from keras.applications.imagenet_utils import preprocess_input\n",
    "from keras.callbacks import ModelCheckpoint\n",
    "import matplotlib.pyplot as plt\n",
    "import numpy as np\n",
    "\n",
    "from ssd import SSD\n",
    "from ssd_training import MultiboxLoss\n",
    "from ssd_utils import Generator, create_bbox_with_priors\n",
    "\n",
    "import pickle\n",
    "from random import shuffle\n",
    "import json\n",
    "\n",
    "%matplotlib inline\n",
    "plt.rcParams['figure.figsize'] = (8, 8)\n",
    "plt.rcParams['image.interpolation'] = 'nearest'\n",
    "from PIL import ImageFile\n",
    "ImageFile.LOAD_TRUNCATED_IMAGES = True\n",
    "\n",
    "np.set_printoptions(suppress=True)"
   ]
  },
  {
   "cell_type": "code",
   "execution_count": null,
   "metadata": {
    "collapsed": true
   },
   "outputs": [],
   "source": [
    "def gen_fix(path, unseen_gen):\n",
    "    images, filenames = next(unseen_gen)\n",
    "    old_filenames = filenames\n",
    "    for i, fname in enumerate(old_filenames):\n",
    "        filenames[i] = path + \"/\" + fname\n",
    "    return images, filenames"
   ]
  },
  {
   "cell_type": "code",
   "execution_count": 2,
   "metadata": {
    "collapsed": true
   },
   "outputs": [],
   "source": [
    "# some constants\n",
    "NUM_CLASSES = 80\n",
    "weight_load_num_classes = 80\n",
    "target_size = (512, 512)\n",
    "batch_size = 4\n",
    "\n",
    "finetune = True\n",
    "only_last_layers = True\n",
    "\n",
    "weight_path = 'weights/weights_512x512.hdf5'\n",
    "image_folder_path = 'my_training_images'\n",
    "bbox_pickle_path = 'my_training_pickle.p'\n",
    "num_freeze_layers = 33 if only_last_layers else 22\n",
    "train_val_split = 0.9\n",
    "with open('coco_labels.json', \"r\") as class_file:\n",
    "    classes = json.load(class_file)"
   ]
  },
  {
   "cell_type": "code",
   "execution_count": 3,
   "metadata": {
    "collapsed": true
   },
   "outputs": [],
   "source": [
    "ssd = SSD(size=target_size, num_classes=weight_load_num_classes)\n",
    "bbox_util = create_bbox_with_priors(ssd.model, NUM_CLASSES, target_size)"
   ]
  },
  {
   "cell_type": "code",
   "execution_count": 4,
   "metadata": {
    "collapsed": true
   },
   "outputs": [],
   "source": [
    "gt = pickle.load(open(bbox_pickle_path, 'rb'))\n",
    "keys = gt.keys()\n",
    "shuffle(keys)\n",
    "num_train = int(round(train_val_split * len(keys)))\n",
    "train_keys = keys[:num_train]\n",
    "val_keys = keys[num_train:]\n",
    "num_val = len(val_keys)"
   ]
  },
  {
   "cell_type": "code",
   "execution_count": 5,
   "metadata": {
    "collapsed": false
   },
   "outputs": [],
   "source": [
    "gen = Generator(gt, bbox_util, batch_size, image_folder_path,\n",
    "                train_keys, val_keys,\n",
    "                target_size, do_crop=False)"
   ]
  },
  {
   "cell_type": "code",
   "execution_count": null,
   "metadata": {
    "collapsed": true
   },
   "outputs": [],
   "source": [
    "checkpoint = ModelCheckpoint('./checkpoints/weights.top_val-{val_loss:.2f}.hdf5', monitor='val_loss', verbose=1, save_best_only=True, mode='min')\n",
    "callbacks = [checkpoint]"
   ]
  },
  {
   "cell_type": "code",
   "execution_count": 6,
   "metadata": {
    "collapsed": false
   },
   "outputs": [],
   "source": [
    "if finetune:\n",
    "    ssd.load_weights_finetune(NUM_CLASSES, weight_path, False)\n",
    "else:\n",
    "    ssd.model.load_weights(weight_path, by_name=True)\n",
    "model = ssd.model"
   ]
  },
  {
   "cell_type": "code",
   "execution_count": 7,
   "metadata": {
    "collapsed": false
   },
   "outputs": [],
   "source": [
    "base_lr = 0.0001\n",
    "optim = keras.optimizers.Adam(lr=base_lr)\n",
    "model.compile(optimizer=optim,\n",
    "              loss=MultiboxLoss(NUM_CLASSES, neg_pos_ratio=3.0).compute_loss)"
   ]
  },
  {
   "cell_type": "code",
   "execution_count": 8,
   "metadata": {
    "collapsed": false
   },
   "outputs": [],
   "source": [
    "nb_epoch = 3\n",
    "history = model.fit_generator(gen.generate(True), gen.train_batches,\n",
    "                              nb_epoch, verbose=1,\n",
    "                              callbacks=callbacks,\n",
    "                              validation_data=gen.generate(False),\n",
    "                              nb_val_samples=gen.val_batches,\n",
    "                              nb_worker=1)"
   ]
  }
 ],
 "metadata": {
  "anaconda-cloud": {},
  "kernelspec": {
   "display_name": "Python 2",
   "language": "python",
   "name": "python2"
  },
  "language_info": {
   "codemirror_mode": {
    "name": "ipython",
    "version": 2.0
   },
   "file_extension": ".py",
   "mimetype": "text/x-python",
   "name": "python",
   "nbconvert_exporter": "python",
   "pygments_lexer": "ipython2",
   "version": "2.7.13"
  }
 },
 "nbformat": 4,
 "nbformat_minor": 0
}